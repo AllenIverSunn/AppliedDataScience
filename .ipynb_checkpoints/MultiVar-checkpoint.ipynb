{
 "cells": [
  {
   "cell_type": "markdown",
   "metadata": {},
   "source": [
    "# 本次实验主要分为三部分:\n",
    "* 多变量关系作图\n",
    "* 时序分析作图\n",
    "* 脚印分割"
   ]
  },
  {
   "cell_type": "markdown",
   "metadata": {
    "heading_collapsed": true
   },
   "source": [
    "## 一、多变量关系"
   ]
  },
  {
   "cell_type": "markdown",
   "metadata": {
    "hidden": true
   },
   "source": [
    "我们分为两部分进行探究多变量之间的关系, 原生数据和处理过的数据。"
   ]
  },
  {
   "cell_type": "code",
   "execution_count": 23,
   "metadata": {
    "hidden": true
   },
   "outputs": [
    {
     "name": "stdout",
     "output_type": "stream",
     "text": [
      "The rpy2.ipython extension is already loaded. To reload it, use:\n",
      "  %reload_ext rpy2.ipython\n"
     ]
    }
   ],
   "source": [
    "import numpy as np\n",
    "import pandas as pd\n",
    "import matplotlib.pyplot as plt\n",
    "import seaborn as sns\n",
    "import os\n",
    "%load_ext rpy2.ipython\n",
    "%matplotlib inline"
   ]
  },
  {
   "cell_type": "code",
   "execution_count": 2,
   "metadata": {
    "collapsed": true,
    "hidden": true
   },
   "outputs": [],
   "source": [
    "%%R\n",
    "library(ggplot2)\n",
    "library(lattice)\n",
    "library(dplyr)"
   ]
  },
  {
   "cell_type": "code",
   "execution_count": 3,
   "metadata": {
    "collapsed": true,
    "hidden": true
   },
   "outputs": [],
   "source": [
    "def output():\n",
    "    out = %R output\n",
    "    print(out)"
   ]
  },
  {
   "cell_type": "markdown",
   "metadata": {
    "heading_collapsed": true
   },
   "source": [
    "## 首先读取处理过的数据"
   ]
  },
  {
   "cell_type": "code",
   "execution_count": 4,
   "metadata": {
    "collapsed": true,
    "hidden": true
   },
   "outputs": [],
   "source": [
    "header = ['gender', 'age', 'weight', 'height', 'step_length_L', 'step_max_L', 'Unknown1', 'Speed_L',\n",
    "          'Freq_L', 'Stop_time_L', 'Swing_time_L', 'Swing_front_L', 'step_length_R', 'step_max_R',\n",
    "          'Unknown2', 'Speed_R', 'Freq_R', 'Stop_time_R', 'Swing_time_R', 'Swing_front_R',\n",
    "          'T', 'double_time', 'cross1_T', 'cross2_T']"
   ]
  },
  {
   "cell_type": "code",
   "execution_count": 5,
   "metadata": {
    "collapsed": true,
    "hidden": true
   },
   "outputs": [],
   "source": [
    "NP_data = pd.read_excel('../../第一次课/totalNPdata.xlsx')\n",
    "PD_data = pd.read_excel('../../第一次课/totalPDSdat.xlsx')"
   ]
  },
  {
   "cell_type": "code",
   "execution_count": 6,
   "metadata": {
    "collapsed": true,
    "hidden": true
   },
   "outputs": [],
   "source": [
    "%%R -i NP_data -i PD_data -i header\n",
    "colnames(NP_data) <- header\n",
    "colnames(PD_data) <- header\n",
    "#Normal type=0, Parkins people type=1\n",
    "NP_data <- mutate(NP_data, type = 0)\n",
    "PD_data <- mutate(PD_data, type = 1)\n",
    "merge_df <- rbind(NP_data, PD_data)\n",
    "output <- head(merge_df)"
   ]
  },
  {
   "cell_type": "code",
   "execution_count": 7,
   "metadata": {
    "hidden": true
   },
   "outputs": [
    {
     "name": "stdout",
     "output_type": "stream",
     "text": [
      "   gender  age  weight  height  step_length_L  step_max_L  Unknown1  Speed_L  \\\n",
      "1       0   26      66     180          67.25      131.75     10.75     1.45   \n",
      "2       0   26      66     180          70.00      129.75     17.00     1.34   \n",
      "3       0   26      66     180          62.50      125.50     15.50     1.10   \n",
      "4       0   26      66     180          61.75      122.50     13.50     0.94   \n",
      "5       0   26      66     180          60.50      122.00     15.25     1.07   \n",
      "6       0   25      53     172          68.00      132.50     10.25     1.25   \n",
      "\n",
      "   Freq_L  Stop_time_L  ...   Speed_R  Freq_R  Stop_time_R  Swing_time_R  \\\n",
      "1    1.10       546.67  ...      1.36    0.98        605.0         400.0   \n",
      "2    1.04       563.33  ...      1.41    1.00        610.0         390.0   \n",
      "3    0.87       726.67  ...      1.13    0.89        690.0         410.0   \n",
      "4    0.76       830.00  ...      0.98    0.79        805.0         470.0   \n",
      "5    0.88       733.33  ...      1.16    0.92        700.0         410.0   \n",
      "6    0.94       646.67  ...      1.28    0.96        635.0         400.0   \n",
      "\n",
      "   Swing_front_R       T  double_time  cross1_T  cross2_T  type  \n",
      "1          100.0   965.0        210.0      64.5      59.0   0.0  \n",
      "2           95.0   982.5        195.0      66.0      57.0   0.0  \n",
      "3          120.0  1132.5        250.0      79.0      80.5   0.0  \n",
      "4          150.0  1290.0        335.0      77.5      69.5   0.0  \n",
      "5          135.0  1115.0        275.0      72.5      72.5   0.0  \n",
      "6          105.0  1050.0        225.0      67.0      68.5   0.0  \n",
      "\n",
      "[6 rows x 25 columns]\n"
     ]
    }
   ],
   "source": [
    "output()"
   ]
  },
  {
   "cell_type": "markdown",
   "metadata": {},
   "source": [
    "## 再读取原生数据"
   ]
  },
  {
   "cell_type": "code",
   "execution_count": 33,
   "metadata": {
    "collapsed": true
   },
   "outputs": [],
   "source": [
    "NP_raw_data = read_data('../../data/NP0001/NP0001_20150526161559_Raw.txt')\n",
    "PD_raw_data = read_data('../../data/PD0001/PD0001_20150714100834_Raw.txt')"
   ]
  },
  {
   "cell_type": "code",
   "execution_count": 35,
   "metadata": {},
   "outputs": [],
   "source": [
    "%%R -i NP_raw_data -i PD_raw_data\n",
    "#Normal type=0, Parkins people type=1\n",
    "NP_raw_data <- mutate(NP_raw_data, type = 0)\n",
    "PD_raw_data <- mutate(PD_raw_data, type = 1)\n",
    "merge_raw_data <- rbind(NP_raw_data, PD_raw_data)\n",
    "output <- c(dim(merge_raw_data))"
   ]
  },
  {
   "cell_type": "markdown",
   "metadata": {},
   "source": [
    "## 获取每个点的坐标"
   ]
  },
  {
   "cell_type": "code",
   "execution_count": 56,
   "metadata": {
    "collapsed": true
   },
   "outputs": [],
   "source": [
    "%%R -i np_raw -i pd_raw\n",
    "NP_raw_data <- np_raw\n",
    "PD_raw_data <- pd_raw"
   ]
  },
  {
   "cell_type": "code",
   "execution_count": 59,
   "metadata": {},
   "outputs": [],
   "source": [
    "%%R\n",
    "merge_raw_data <- rbind(NP_raw_data, PD_raw_data)"
   ]
  },
  {
   "cell_type": "code",
   "execution_count": 63,
   "metadata": {
    "collapsed": true
   },
   "outputs": [],
   "source": [
    "merge_raw_df = %R merge_raw_data"
   ]
  },
  {
   "cell_type": "code",
   "execution_count": 64,
   "metadata": {},
   "outputs": [
    {
     "data": {
      "text/html": [
       "<div>\n",
       "<style>\n",
       "    .dataframe thead tr:only-child th {\n",
       "        text-align: right;\n",
       "    }\n",
       "\n",
       "    .dataframe thead th {\n",
       "        text-align: left;\n",
       "    }\n",
       "\n",
       "    .dataframe tbody tr th {\n",
       "        vertical-align: top;\n",
       "    }\n",
       "</style>\n",
       "<table border=\"1\" class=\"dataframe\">\n",
       "  <thead>\n",
       "    <tr style=\"text-align: right;\">\n",
       "      <th></th>\n",
       "      <th>timeId</th>\n",
       "      <th>NodeId</th>\n",
       "      <th>RowNo</th>\n",
       "      <th>ColNo</th>\n",
       "      <th>Pressure</th>\n",
       "      <th>type</th>\n",
       "      <th>x</th>\n",
       "      <th>y</th>\n",
       "    </tr>\n",
       "  </thead>\n",
       "  <tbody>\n",
       "    <tr>\n",
       "      <th>1</th>\n",
       "      <td>0000000827</td>\n",
       "      <td>28</td>\n",
       "      <td>81</td>\n",
       "      <td>15</td>\n",
       "      <td>28</td>\n",
       "      <td>0.0</td>\n",
       "      <td>75</td>\n",
       "      <td>39</td>\n",
       "    </tr>\n",
       "    <tr>\n",
       "      <th>2</th>\n",
       "      <td>0000000827</td>\n",
       "      <td>28</td>\n",
       "      <td>82</td>\n",
       "      <td>15</td>\n",
       "      <td>29</td>\n",
       "      <td>0.0</td>\n",
       "      <td>80</td>\n",
       "      <td>36</td>\n",
       "    </tr>\n",
       "    <tr>\n",
       "      <th>3</th>\n",
       "      <td>0000000827</td>\n",
       "      <td>28</td>\n",
       "      <td>83</td>\n",
       "      <td>15</td>\n",
       "      <td>33</td>\n",
       "      <td>0.0</td>\n",
       "      <td>80</td>\n",
       "      <td>38</td>\n",
       "    </tr>\n",
       "    <tr>\n",
       "      <th>4</th>\n",
       "      <td>0000000827</td>\n",
       "      <td>28</td>\n",
       "      <td>81</td>\n",
       "      <td>16</td>\n",
       "      <td>47</td>\n",
       "      <td>0.0</td>\n",
       "      <td>80</td>\n",
       "      <td>39</td>\n",
       "    </tr>\n",
       "    <tr>\n",
       "      <th>5</th>\n",
       "      <td>0000000827</td>\n",
       "      <td>28</td>\n",
       "      <td>82</td>\n",
       "      <td>16</td>\n",
       "      <td>38</td>\n",
       "      <td>0.0</td>\n",
       "      <td>80</td>\n",
       "      <td>41</td>\n",
       "    </tr>\n",
       "  </tbody>\n",
       "</table>\n",
       "</div>"
      ],
      "text/plain": [
       "       timeId NodeId RowNo ColNo  Pressure  type   x   y\n",
       "1  0000000827     28    81    15        28   0.0  75  39\n",
       "2  0000000827     28    82    15        29   0.0  80  36\n",
       "3  0000000827     28    83    15        33   0.0  80  38\n",
       "4  0000000827     28    81    16        47   0.0  80  39\n",
       "5  0000000827     28    82    16        38   0.0  80  41"
      ]
     },
     "execution_count": 64,
     "metadata": {},
     "output_type": "execute_result"
    }
   ],
   "source": [
    "merge_raw_df.head()"
   ]
  },
  {
   "cell_type": "code",
   "execution_count": 71,
   "metadata": {},
   "outputs": [
    {
     "data": {
      "image/png": "[encoded data removed]"
     },
     "metadata": {},
     "output_type": "display_data"
    }
   ],
   "source": [
    "%%R\n",
    "merge_raw_data %>%\n",
    "filter(type == 1) %>%\n",
    "ggplot(aes(x=x, y=y)) + geom_point(alpha=0.5)"
   ]
  },
  {
   "cell_type": "markdown",
   "metadata": {},
   "source": [
    "## 现在构造一张二值图片, 以正常人为例"
   ]
  },
  {
   "cell_type": "code",
   "execution_count": 76,
   "metadata": {},
   "outputs": [],
   "source": [
    "img = np.zeros((9*120, 60*8))\n",
    "np_raw_df = merge_raw_df[merge_raw_df['type'] == 0]\n",
    "for i in range(len(np_raw_df)):\n",
    "    x, y = np_raw_df.iloc[i, -2], np_raw_df.iloc[i, -1]\n",
    "    img[y, x] = 1"
   ]
  },
  {
   "cell_type": "code",
   "execution_count": 86,
   "metadata": {},
   "outputs": [],
   "source": [
    "# mag_img = cv2.resize(img, (2*9*120, 2*60*8), cv2.INTER_AREA)\n",
    "cv2.imshow('Img',img)"
   ]
  },
  {
   "cell_type": "markdown",
   "metadata": {},
   "source": [
    "## 使用腐蚀和膨胀来去噪"
   ]
  },
  {
   "cell_type": "code",
   "execution_count": 78,
   "metadata": {
    "collapsed": true
   },
   "outputs": [],
   "source": [
    "import cv2"
   ]
  },
  {
   "cell_type": "code",
   "execution_count": null,
   "metadata": {
    "collapsed": true
   },
   "outputs": [],
   "source": []
  }
 ],
 "metadata": {
  "kernelspec": {
   "display_name": "Python 3",
   "language": "python",
   "name": "python3"
  },
  "language_info": {
   "codemirror_mode": {
    "name": "ipython",
    "version": 3
   },
   "file_extension": ".py",
   "mimetype": "text/x-python",
   "name": "python",
   "nbconvert_exporter": "python",
   "pygments_lexer": "ipython3",
   "version": "3.6.5"
  }
 },
 "nbformat": 4,
 "nbformat_minor": 2
}
