{
 "cells": [
  {
   "cell_type": "code",
   "execution_count": 99,
   "metadata": {
    "ExecuteTime": {
     "end_time": "2018-01-02T15:48:33.946867Z",
     "start_time": "2018-01-02T15:48:33.932859Z"
    }
   },
   "outputs": [
    {
     "name": "stdout",
     "output_type": "stream",
     "text": [
      "The rpy2.ipython extension is already loaded. To reload it, use:\n",
      "  %reload_ext rpy2.ipython\n"
     ]
    }
   ],
   "source": [
    "import numpy as np\n",
    "import pandas as pd\n",
    "import matplotlib.pyplot as plt\n",
    "import seaborn as sns\n",
    "from sklearn.metrics.pairwise import rbf_kernel\n",
    "%matplotlib inline\n",
    "%load_ext rpy2.ipython"
   ]
  },
  {
   "cell_type": "markdown",
   "metadata": {},
   "source": [
    "## 为了演讲, 实现一遍*Clustering by fast search and find of density peaks*算法"
   ]
  },
  {
   "cell_type": "code",
   "execution_count": 2,
   "metadata": {
    "ExecuteTime": {
     "end_time": "2018-01-02T12:55:30.104764Z",
     "start_time": "2018-01-02T12:55:28.290480Z"
    },
    "collapsed": true
   },
   "outputs": [],
   "source": [
    "header = ['gender', 'age', 'weight', 'height', 'step_len_l', 'step_max_l', 'unknown_l', 'step_speed_l', 'step_freq_l',\n",
    "         'stand_time_l', 'swing_time_l', 'pre_swing_time_l', 'step_len_r', 'step_max_r', 'unknown_r', 'step_speed_r',\n",
    "          'step_freq_r', 'stand_time_r', 'swing_time_r', 'pre_swing_time_r', 'period', 'double_support', 'bend1_time',\n",
    "         'bend2_time']\n",
    "np_df = pd.read_excel('../../第一次课/totalNPdata.xlsx', names=header, dtype=np.float32)\n",
    "pd_df = pd.read_excel('../../第一次课/totalPDSdat.xlsx', names=header, dtype=np.float32)"
   ]
  },
  {
   "cell_type": "code",
   "execution_count": 3,
   "metadata": {
    "ExecuteTime": {
     "end_time": "2018-01-02T12:55:44.543439Z",
     "start_time": "2018-01-02T12:55:30.109768Z"
    },
    "collapsed": true
   },
   "outputs": [],
   "source": [
    "%%R -i np_df -i pd_df -o df\n",
    "library(dplyr)\n",
    "library(lattice)\n",
    "library(ggplot2)\n",
    "np_df <- mutate(np_df, type=0)\n",
    "pd_df <- mutate(pd_df, type=1)\n",
    "df <- rbind(np_df, pd_df)"
   ]
  },
  {
   "cell_type": "code",
   "execution_count": 4,
   "metadata": {
    "ExecuteTime": {
     "end_time": "2018-01-02T12:55:44.687706Z",
     "start_time": "2018-01-02T12:55:44.547381Z"
    }
   },
   "outputs": [
    {
     "data": {
      "text/html": [
       "<div>\n",
       "<style>\n",
       "    .dataframe thead tr:only-child th {\n",
       "        text-align: right;\n",
       "    }\n",
       "\n",
       "    .dataframe thead th {\n",
       "        text-align: left;\n",
       "    }\n",
       "\n",
       "    .dataframe tbody tr th {\n",
       "        vertical-align: top;\n",
       "    }\n",
       "</style>\n",
       "<table border=\"1\" class=\"dataframe\">\n",
       "  <thead>\n",
       "    <tr style=\"text-align: right;\">\n",
       "      <th></th>\n",
       "      <th>gender</th>\n",
       "      <th>age</th>\n",
       "      <th>weight</th>\n",
       "      <th>height</th>\n",
       "      <th>step_len_l</th>\n",
       "      <th>step_max_l</th>\n",
       "      <th>unknown_l</th>\n",
       "      <th>step_speed_l</th>\n",
       "      <th>step_freq_l</th>\n",
       "      <th>stand_time_l</th>\n",
       "      <th>...</th>\n",
       "      <th>step_speed_r</th>\n",
       "      <th>step_freq_r</th>\n",
       "      <th>stand_time_r</th>\n",
       "      <th>swing_time_r</th>\n",
       "      <th>pre_swing_time_r</th>\n",
       "      <th>period</th>\n",
       "      <th>double_support</th>\n",
       "      <th>bend1_time</th>\n",
       "      <th>bend2_time</th>\n",
       "      <th>type</th>\n",
       "    </tr>\n",
       "  </thead>\n",
       "  <tbody>\n",
       "    <tr>\n",
       "      <th>1</th>\n",
       "      <td>0.0</td>\n",
       "      <td>26.0</td>\n",
       "      <td>66.0</td>\n",
       "      <td>180.0</td>\n",
       "      <td>67.25</td>\n",
       "      <td>131.75</td>\n",
       "      <td>10.75</td>\n",
       "      <td>1.45</td>\n",
       "      <td>1.10</td>\n",
       "      <td>546.669983</td>\n",
       "      <td>...</td>\n",
       "      <td>1.36</td>\n",
       "      <td>0.98</td>\n",
       "      <td>605.0</td>\n",
       "      <td>400.0</td>\n",
       "      <td>100.0</td>\n",
       "      <td>965.0</td>\n",
       "      <td>210.0</td>\n",
       "      <td>64.5</td>\n",
       "      <td>59.0</td>\n",
       "      <td>0.0</td>\n",
       "    </tr>\n",
       "    <tr>\n",
       "      <th>2</th>\n",
       "      <td>0.0</td>\n",
       "      <td>26.0</td>\n",
       "      <td>66.0</td>\n",
       "      <td>180.0</td>\n",
       "      <td>70.00</td>\n",
       "      <td>129.75</td>\n",
       "      <td>17.00</td>\n",
       "      <td>1.34</td>\n",
       "      <td>1.04</td>\n",
       "      <td>563.330017</td>\n",
       "      <td>...</td>\n",
       "      <td>1.41</td>\n",
       "      <td>1.00</td>\n",
       "      <td>610.0</td>\n",
       "      <td>390.0</td>\n",
       "      <td>95.0</td>\n",
       "      <td>982.5</td>\n",
       "      <td>195.0</td>\n",
       "      <td>66.0</td>\n",
       "      <td>57.0</td>\n",
       "      <td>0.0</td>\n",
       "    </tr>\n",
       "    <tr>\n",
       "      <th>3</th>\n",
       "      <td>0.0</td>\n",
       "      <td>26.0</td>\n",
       "      <td>66.0</td>\n",
       "      <td>180.0</td>\n",
       "      <td>62.50</td>\n",
       "      <td>125.50</td>\n",
       "      <td>15.50</td>\n",
       "      <td>1.10</td>\n",
       "      <td>0.87</td>\n",
       "      <td>726.669983</td>\n",
       "      <td>...</td>\n",
       "      <td>1.13</td>\n",
       "      <td>0.89</td>\n",
       "      <td>690.0</td>\n",
       "      <td>410.0</td>\n",
       "      <td>120.0</td>\n",
       "      <td>1132.5</td>\n",
       "      <td>250.0</td>\n",
       "      <td>79.0</td>\n",
       "      <td>80.5</td>\n",
       "      <td>0.0</td>\n",
       "    </tr>\n",
       "    <tr>\n",
       "      <th>4</th>\n",
       "      <td>0.0</td>\n",
       "      <td>26.0</td>\n",
       "      <td>66.0</td>\n",
       "      <td>180.0</td>\n",
       "      <td>61.75</td>\n",
       "      <td>122.50</td>\n",
       "      <td>13.50</td>\n",
       "      <td>0.94</td>\n",
       "      <td>0.76</td>\n",
       "      <td>830.000000</td>\n",
       "      <td>...</td>\n",
       "      <td>0.98</td>\n",
       "      <td>0.79</td>\n",
       "      <td>805.0</td>\n",
       "      <td>470.0</td>\n",
       "      <td>150.0</td>\n",
       "      <td>1290.0</td>\n",
       "      <td>335.0</td>\n",
       "      <td>77.5</td>\n",
       "      <td>69.5</td>\n",
       "      <td>0.0</td>\n",
       "    </tr>\n",
       "    <tr>\n",
       "      <th>5</th>\n",
       "      <td>0.0</td>\n",
       "      <td>26.0</td>\n",
       "      <td>66.0</td>\n",
       "      <td>180.0</td>\n",
       "      <td>60.50</td>\n",
       "      <td>122.00</td>\n",
       "      <td>15.25</td>\n",
       "      <td>1.07</td>\n",
       "      <td>0.88</td>\n",
       "      <td>733.330017</td>\n",
       "      <td>...</td>\n",
       "      <td>1.16</td>\n",
       "      <td>0.92</td>\n",
       "      <td>700.0</td>\n",
       "      <td>410.0</td>\n",
       "      <td>135.0</td>\n",
       "      <td>1115.0</td>\n",
       "      <td>275.0</td>\n",
       "      <td>72.5</td>\n",
       "      <td>72.5</td>\n",
       "      <td>0.0</td>\n",
       "    </tr>\n",
       "  </tbody>\n",
       "</table>\n",
       "<p>5 rows × 25 columns</p>\n",
       "</div>"
      ],
      "text/plain": [
       "   gender   age  weight  height  step_len_l  step_max_l  unknown_l  \\\n",
       "1     0.0  26.0    66.0   180.0       67.25      131.75      10.75   \n",
       "2     0.0  26.0    66.0   180.0       70.00      129.75      17.00   \n",
       "3     0.0  26.0    66.0   180.0       62.50      125.50      15.50   \n",
       "4     0.0  26.0    66.0   180.0       61.75      122.50      13.50   \n",
       "5     0.0  26.0    66.0   180.0       60.50      122.00      15.25   \n",
       "\n",
       "   step_speed_l  step_freq_l  stand_time_l  ...   step_speed_r  step_freq_r  \\\n",
       "1          1.45         1.10    546.669983  ...           1.36         0.98   \n",
       "2          1.34         1.04    563.330017  ...           1.41         1.00   \n",
       "3          1.10         0.87    726.669983  ...           1.13         0.89   \n",
       "4          0.94         0.76    830.000000  ...           0.98         0.79   \n",
       "5          1.07         0.88    733.330017  ...           1.16         0.92   \n",
       "\n",
       "   stand_time_r  swing_time_r  pre_swing_time_r  period  double_support  \\\n",
       "1         605.0         400.0             100.0   965.0           210.0   \n",
       "2         610.0         390.0              95.0   982.5           195.0   \n",
       "3         690.0         410.0             120.0  1132.5           250.0   \n",
       "4         805.0         470.0             150.0  1290.0           335.0   \n",
       "5         700.0         410.0             135.0  1115.0           275.0   \n",
       "\n",
       "   bend1_time  bend2_time  type  \n",
       "1        64.5        59.0   0.0  \n",
       "2        66.0        57.0   0.0  \n",
       "3        79.0        80.5   0.0  \n",
       "4        77.5        69.5   0.0  \n",
       "5        72.5        72.5   0.0  \n",
       "\n",
       "[5 rows x 25 columns]"
      ]
     },
     "execution_count": 4,
     "metadata": {},
     "output_type": "execute_result"
    }
   ],
   "source": [
    "df.head()"
   ]
  },
  {
   "cell_type": "code",
   "execution_count": 5,
   "metadata": {
    "ExecuteTime": {
     "end_time": "2018-01-02T12:55:44.964012Z",
     "start_time": "2018-01-02T12:55:44.693710Z"
    }
   },
   "outputs": [
    {
     "data": {
      "text/html": [
       "<div>\n",
       "<style>\n",
       "    .dataframe thead tr:only-child th {\n",
       "        text-align: right;\n",
       "    }\n",
       "\n",
       "    .dataframe thead th {\n",
       "        text-align: left;\n",
       "    }\n",
       "\n",
       "    .dataframe tbody tr th {\n",
       "        vertical-align: top;\n",
       "    }\n",
       "</style>\n",
       "<table border=\"1\" class=\"dataframe\">\n",
       "  <thead>\n",
       "    <tr style=\"text-align: right;\">\n",
       "      <th></th>\n",
       "      <th>gender</th>\n",
       "      <th>age</th>\n",
       "      <th>weight</th>\n",
       "      <th>height</th>\n",
       "      <th>step_len_l</th>\n",
       "      <th>step_max_l</th>\n",
       "      <th>unknown_l</th>\n",
       "      <th>step_speed_l</th>\n",
       "      <th>step_freq_l</th>\n",
       "      <th>stand_time_l</th>\n",
       "      <th>...</th>\n",
       "      <th>unknown_r</th>\n",
       "      <th>step_speed_r</th>\n",
       "      <th>step_freq_r</th>\n",
       "      <th>stand_time_r</th>\n",
       "      <th>swing_time_r</th>\n",
       "      <th>pre_swing_time_r</th>\n",
       "      <th>period</th>\n",
       "      <th>double_support</th>\n",
       "      <th>bend1_time</th>\n",
       "      <th>bend2_time</th>\n",
       "    </tr>\n",
       "  </thead>\n",
       "  <tbody>\n",
       "    <tr>\n",
       "      <th>1</th>\n",
       "      <td>0.0</td>\n",
       "      <td>26.0</td>\n",
       "      <td>66.0</td>\n",
       "      <td>180.0</td>\n",
       "      <td>67.25</td>\n",
       "      <td>131.75</td>\n",
       "      <td>10.75</td>\n",
       "      <td>1.45</td>\n",
       "      <td>1.10</td>\n",
       "      <td>546.669983</td>\n",
       "      <td>...</td>\n",
       "      <td>33.5</td>\n",
       "      <td>1.36</td>\n",
       "      <td>0.98</td>\n",
       "      <td>605.0</td>\n",
       "      <td>400.0</td>\n",
       "      <td>100.0</td>\n",
       "      <td>965.0</td>\n",
       "      <td>210.0</td>\n",
       "      <td>64.5</td>\n",
       "      <td>59.0</td>\n",
       "    </tr>\n",
       "    <tr>\n",
       "      <th>2</th>\n",
       "      <td>0.0</td>\n",
       "      <td>26.0</td>\n",
       "      <td>66.0</td>\n",
       "      <td>180.0</td>\n",
       "      <td>70.00</td>\n",
       "      <td>129.75</td>\n",
       "      <td>17.00</td>\n",
       "      <td>1.34</td>\n",
       "      <td>1.04</td>\n",
       "      <td>563.330017</td>\n",
       "      <td>...</td>\n",
       "      <td>24.5</td>\n",
       "      <td>1.41</td>\n",
       "      <td>1.00</td>\n",
       "      <td>610.0</td>\n",
       "      <td>390.0</td>\n",
       "      <td>95.0</td>\n",
       "      <td>982.5</td>\n",
       "      <td>195.0</td>\n",
       "      <td>66.0</td>\n",
       "      <td>57.0</td>\n",
       "    </tr>\n",
       "    <tr>\n",
       "      <th>3</th>\n",
       "      <td>0.0</td>\n",
       "      <td>26.0</td>\n",
       "      <td>66.0</td>\n",
       "      <td>180.0</td>\n",
       "      <td>62.50</td>\n",
       "      <td>125.50</td>\n",
       "      <td>15.50</td>\n",
       "      <td>1.10</td>\n",
       "      <td>0.87</td>\n",
       "      <td>726.669983</td>\n",
       "      <td>...</td>\n",
       "      <td>35.5</td>\n",
       "      <td>1.13</td>\n",
       "      <td>0.89</td>\n",
       "      <td>690.0</td>\n",
       "      <td>410.0</td>\n",
       "      <td>120.0</td>\n",
       "      <td>1132.5</td>\n",
       "      <td>250.0</td>\n",
       "      <td>79.0</td>\n",
       "      <td>80.5</td>\n",
       "    </tr>\n",
       "    <tr>\n",
       "      <th>4</th>\n",
       "      <td>0.0</td>\n",
       "      <td>26.0</td>\n",
       "      <td>66.0</td>\n",
       "      <td>180.0</td>\n",
       "      <td>61.75</td>\n",
       "      <td>122.50</td>\n",
       "      <td>13.50</td>\n",
       "      <td>0.94</td>\n",
       "      <td>0.76</td>\n",
       "      <td>830.000000</td>\n",
       "      <td>...</td>\n",
       "      <td>25.5</td>\n",
       "      <td>0.98</td>\n",
       "      <td>0.79</td>\n",
       "      <td>805.0</td>\n",
       "      <td>470.0</td>\n",
       "      <td>150.0</td>\n",
       "      <td>1290.0</td>\n",
       "      <td>335.0</td>\n",
       "      <td>77.5</td>\n",
       "      <td>69.5</td>\n",
       "    </tr>\n",
       "    <tr>\n",
       "      <th>5</th>\n",
       "      <td>0.0</td>\n",
       "      <td>26.0</td>\n",
       "      <td>66.0</td>\n",
       "      <td>180.0</td>\n",
       "      <td>60.50</td>\n",
       "      <td>122.00</td>\n",
       "      <td>15.25</td>\n",
       "      <td>1.07</td>\n",
       "      <td>0.88</td>\n",
       "      <td>733.330017</td>\n",
       "      <td>...</td>\n",
       "      <td>31.5</td>\n",
       "      <td>1.16</td>\n",
       "      <td>0.92</td>\n",
       "      <td>700.0</td>\n",
       "      <td>410.0</td>\n",
       "      <td>135.0</td>\n",
       "      <td>1115.0</td>\n",
       "      <td>275.0</td>\n",
       "      <td>72.5</td>\n",
       "      <td>72.5</td>\n",
       "    </tr>\n",
       "  </tbody>\n",
       "</table>\n",
       "<p>5 rows × 24 columns</p>\n",
       "</div>"
      ],
      "text/plain": [
       "   gender   age  weight  height  step_len_l  step_max_l  unknown_l  \\\n",
       "1     0.0  26.0    66.0   180.0       67.25      131.75      10.75   \n",
       "2     0.0  26.0    66.0   180.0       70.00      129.75      17.00   \n",
       "3     0.0  26.0    66.0   180.0       62.50      125.50      15.50   \n",
       "4     0.0  26.0    66.0   180.0       61.75      122.50      13.50   \n",
       "5     0.0  26.0    66.0   180.0       60.50      122.00      15.25   \n",
       "\n",
       "   step_speed_l  step_freq_l  stand_time_l     ...      unknown_r  \\\n",
       "1          1.45         1.10    546.669983     ...           33.5   \n",
       "2          1.34         1.04    563.330017     ...           24.5   \n",
       "3          1.10         0.87    726.669983     ...           35.5   \n",
       "4          0.94         0.76    830.000000     ...           25.5   \n",
       "5          1.07         0.88    733.330017     ...           31.5   \n",
       "\n",
       "   step_speed_r  step_freq_r  stand_time_r  swing_time_r  pre_swing_time_r  \\\n",
       "1          1.36         0.98         605.0         400.0             100.0   \n",
       "2          1.41         1.00         610.0         390.0              95.0   \n",
       "3          1.13         0.89         690.0         410.0             120.0   \n",
       "4          0.98         0.79         805.0         470.0             150.0   \n",
       "5          1.16         0.92         700.0         410.0             135.0   \n",
       "\n",
       "   period  double_support  bend1_time  bend2_time  \n",
       "1   965.0           210.0        64.5        59.0  \n",
       "2   982.5           195.0        66.0        57.0  \n",
       "3  1132.5           250.0        79.0        80.5  \n",
       "4  1290.0           335.0        77.5        69.5  \n",
       "5  1115.0           275.0        72.5        72.5  \n",
       "\n",
       "[5 rows x 24 columns]"
      ]
     },
     "execution_count": 5,
     "metadata": {},
     "output_type": "execute_result"
    }
   ],
   "source": [
    "# 将数据中的标记去掉\n",
    "unlabeled_df = df.drop(['type'], axis=1)\n",
    "unlabeled_df.head()"
   ]
  },
  {
   "cell_type": "code",
   "execution_count": 6,
   "metadata": {
    "ExecuteTime": {
     "end_time": "2018-01-02T12:55:45.132229Z",
     "start_time": "2018-01-02T12:55:44.972012Z"
    }
   },
   "outputs": [
    {
     "data": {
      "text/plain": [
       "((384, 25), (384, 1))"
      ]
     },
     "execution_count": 6,
     "metadata": {},
     "output_type": "execute_result"
    }
   ],
   "source": [
    "# 标记数据\n",
    "x = df.as_matrix()\n",
    "y = df['type'].as_matrix().reshape((-1, 1))\n",
    "x.shape, y.shape"
   ]
  },
  {
   "cell_type": "code",
   "execution_count": 18,
   "metadata": {
    "ExecuteTime": {
     "end_time": "2018-01-02T15:06:09.924329Z",
     "start_time": "2018-01-02T15:06:09.902314Z"
    }
   },
   "outputs": [],
   "source": [
    "# 对于x中的每一列进行normalization以减少数据的数量级对距离的影响\n",
    "norm_x = x.copy()\n",
    "col_max = np.max(x, axis=0)\n",
    "col_min = np.min(x, axis=0)\n",
    "for i in range(norm_x.shape[1]):\n",
    "    norm_x[:, i] = (norm_x[:, i] - col_min[i]) / (col_max[i] - col_min[i])\n",
    "for i in range(norm_x.shape[0]):\n",
    "    for j in range(norm_x.shape[1]):\n",
    "        assert((norm_x[i, j] >= 0) and (norm_x[i, j] <= 1))"
   ]
  },
  {
   "cell_type": "markdown",
   "metadata": {},
   "source": [
    "### 在Kmeans中，由于给聚类中心分配的数据点都是球状分布在聚类中心周围的，这样对于那些非球状分布的数据点来说是有很大不足的"
   ]
  },
  {
   "cell_type": "markdown",
   "metadata": {},
   "source": [
    "### 对于非规则性分布在聚类中心周围的数据点, 可以使用基于局部密度的算法实现, 如DBSCAN  (Density-Based Spatial Clustering of Applications with Noise)"
   ]
  },
  {
   "cell_type": "markdown",
   "metadata": {},
   "source": [
    "### 在上述基于局部密度的方法中, 要求人工选定一个threshold,  密度小于这个值的数据点都当做噪声丢弃掉。然而, 挑选一个适合的threshold是非常难的"
   ]
  },
  {
   "cell_type": "markdown",
   "metadata": {},
   "source": [
    "### 此方法类似于K-medoids。就像DBSCAN和Mean Shift一样, 此方法可以找出非球状分布的聚类，并且能自动确定聚类数"
   ]
  },
  {
   "cell_type": "markdown",
   "metadata": {},
   "source": [
    "### 就想Mean Shift一样, 聚类中心被定义为数据点的局部密度取最大值的地方, 但是*** 此方法不需要Mean Shift那种将数据点嵌入到Vector Space, 然后最大化每个数据点的密度???***"
   ]
  },
  {
   "cell_type": "markdown",
   "metadata": {},
   "source": [
    "# 本算法的假设！！:\n",
    "-  聚类中心被局部密度相对较低的数据点包围\n",
    "-  聚类中心距离任何一个有更高的局部距离的数据点都相对较远"
   ]
  },
  {
   "cell_type": "markdown",
   "metadata": {},
   "source": [
    "### 对于每个数据点, 计算两个属性:\n",
    "- local density $p_i$\n",
    "- distance $\\delta _i$ from points of higher density\n",
    "### 这两个属性都仅仅依赖于distance between two data points $d_{ij}$"
   ]
  },
  {
   "cell_type": "markdown",
   "metadata": {},
   "source": [
    "local density:\n",
    "$$p_i=\\sum_i \\chi (d_{ij}-d_c)$$\n",
    "where $\\chi (x)=1$ if $x<0$ and $\\chi (x)=0$ otherwise, $d_c$ 叫做截断距离 (cutoff distance)  \n",
    "通俗地讲, $p_i$等于第$i$个数据点周围距离小于$d_c$的数据点的个数"
   ]
  },
  {
   "cell_type": "markdown",
   "metadata": {},
   "source": [
    "$\\delta _i$主要是通过计算数据点$i$和其他所有密度大于它的点的距离得到的:\n",
    "$$\\delta _i=\\min \\limits_{j: p_j > p_i}(d_{ij})$$\n",
    "对于那个有最高密度的点来说:\n",
    "$$\\delta _i=max_j(d_{ij})$$\n",
    "注意到, $\\delta _i$ is much larger than the typical nearest neighbor distances only from those points which are local and global maxima in dexsity. *** 基于这句话的理解, 聚类中心就是那些$\\delta _i$出奇的大的点***"
   ]
  },
  {
   "cell_type": "markdown",
   "metadata": {},
   "source": [
    "### 文章中针对此算法定义了一个Decision Graph, 即画出每个点的$p_i$ ~ $\\delta_i$, 聚类中心点在Decision Graph中会特别突出, 即周围点的个数多而且距离其他密度高的点远的点。被孤立的点，也就是离群点 (outliers) 的$\\delta_i$会很高, 但是$p_i$会很低"
   ]
  },
  {
   "cell_type": "markdown",
   "metadata": {},
   "source": [
    "### 一旦聚类中心被找到, 其他点就会被分配到最近的聚类中心"
   ]
  },
  {
   "cell_type": "markdown",
   "metadata": {},
   "source": [
    "### 在DBSCAN这样的算法中, 一个点是可靠的如果此点的密度大于一个threshold，但是这个方法会导致低密度类簇被归类为噪声"
   ]
  },
  {
   "cell_type": "markdown",
   "metadata": {},
   "source": [
    "### 在此算法中，说先为每个类簇找到一个边界, 这个边界定义为：\n",
    "- the set of points assigned to that cluster but being within a distance $d_c$ from data points belonging to **other clusters**.\n",
    "也就是说对于每个类簇, 找到此类簇中距离其他类簇的距离小于$d_c$的点, 这些点的集合就是此类簇的border region"
   ]
  },
  {
   "cell_type": "markdown",
   "metadata": {},
   "source": [
    "### 我们接下来找到, 对于每个类簇来说, 其border region中密度最高的点, 将此点的密度记为$p_b$. 在这个类簇中, 所有密度大于$p_b$的点都被叫做cluster core (robust assignation), 其他的点就被叫做cluster halo (可以说是噪声点)."
   ]
  },
  {
   "cell_type": "markdown",
   "metadata": {},
   "source": [
    "# 接下来实现此算法"
   ]
  },
  {
   "cell_type": "code",
   "execution_count": 94,
   "metadata": {
    "ExecuteTime": {
     "end_time": "2018-01-02T15:44:13.204851Z",
     "start_time": "2018-01-02T15:44:13.199848Z"
    },
    "collapsed": true
   },
   "outputs": [],
   "source": [
    "d_c = 0.2\n",
    "# 距离矩阵\n",
    "D = np.zeros((x.shape[0], x.shape[0]))"
   ]
  },
  {
   "cell_type": "code",
   "execution_count": null,
   "metadata": {
    "ExecuteTime": {
     "start_time": "2018-01-02T15:49:26.065Z"
    }
   },
   "outputs": [],
   "source": [
    "# 首先计算任意两个点之间的距离\n",
    "for i in range(D.shape[0]):\n",
    "    for j in range(i):\n",
    "#         D[i, j] = np.sum((norm_x[i, :] - norm_x[j, :])**2)\n",
    "        D[i, j] = rbf_kernel(norm_x[i, :], norm_x[j, :])\n",
    "        D[j, i] = D[i, j]"
   ]
  },
  {
   "cell_type": "code",
   "execution_count": 96,
   "metadata": {
    "ExecuteTime": {
     "end_time": "2018-01-02T15:44:14.462699Z",
     "start_time": "2018-01-02T15:44:14.449183Z"
    }
   },
   "outputs": [],
   "source": [
    "#计算P矩阵\n",
    "P = np.zeros((1, D.shape[0]))\n",
    "for i in range(P.shape[1]):\n",
    "    P[0, i] = np.sum(D[i, :] < d_c)"
   ]
  },
  {
   "cell_type": "code",
   "execution_count": 97,
   "metadata": {
    "ExecuteTime": {
     "end_time": "2018-01-02T15:44:15.029009Z",
     "start_time": "2018-01-02T15:44:14.911388Z"
    }
   },
   "outputs": [
    {
     "name": "stdout",
     "output_type": "stream",
     "text": [
      "8.88206605934\n"
     ]
    }
   ],
   "source": [
    "# 计算delta\n",
    "Delta = np.zeros((1, D.shape[0]))\n",
    "for i in range(Delta.shape[1]):\n",
    "    min_d = 9999\n",
    "    for cord in np.argwhere(P > P[0, i]):\n",
    "        min_d = min(min_d, D[cord[0], cord[1]])\n",
    "    Delta[0, i] = min_d\n",
    "max_cord = np.argmax(P)\n",
    "Delta[0, max_cord] = np.max(D[max_cord, :])\n",
    "print(Delta[0, max_cord])"
   ]
  },
  {
   "cell_type": "code",
   "execution_count": 98,
   "metadata": {
    "ExecuteTime": {
     "end_time": "2018-01-02T15:44:15.895844Z",
     "start_time": "2018-01-02T15:44:15.695514Z"
    },
    "scrolled": true
   },
   "outputs": [
    {
     "data": {
      "text/plain": [
       "<matplotlib.text.Text at 0x1f3ebb2b6d8>"
      ]
     },
     "execution_count": 98,
     "metadata": {},
     "output_type": "execute_result"
    },
    {
     "data": {
      "image/png": "[encoded data removed]",
      "text/plain": [
       "<matplotlib.figure.Figure at 0x1f3eba0c0f0>"
      ]
     },
     "metadata": {},
     "output_type": "display_data"
    }
   ],
   "source": [
    "plt.scatter(y=Delta.T, x=P.T)\n",
    "plt.xlabel('p')\n",
    "plt.ylabel('delta')"
   ]
  },
  {
   "cell_type": "markdown",
   "metadata": {
    "ExecuteTime": {
     "end_time": "2018-01-02T15:22:08.935828Z",
     "start_time": "2018-01-02T15:22:08.927824Z"
    }
   },
   "source": [
    "### 可以看到, 有两个明显的点, 这两个点即为聚类中心"
   ]
  },
  {
   "cell_type": "code",
   "execution_count": 75,
   "metadata": {
    "ExecuteTime": {
     "end_time": "2018-01-02T15:39:45.049516Z",
     "start_time": "2018-01-02T15:39:45.043513Z"
    },
    "collapsed": true
   },
   "outputs": [],
   "source": [
    "# 去除聚类中心\n",
    "arg_sort_delta = np.argsort(-Delta)\n",
    "max_cords = arg_sort_delta[0, :2]"
   ]
  },
  {
   "cell_type": "code",
   "execution_count": 76,
   "metadata": {
    "ExecuteTime": {
     "end_time": "2018-01-02T15:39:45.953969Z",
     "start_time": "2018-01-02T15:39:45.939958Z"
    }
   },
   "outputs": [],
   "source": [
    "# 将每一个点归类\n",
    "labels = np.zeros((1, D.shape[0]), dtype=int)\n",
    "for i in range(D.shape[0]):\n",
    "    distances = np.ones(max_cords.shape) * 9999\n",
    "    for i, max_cord in enumerate(max_cords):\n",
    "        distances[i] = min(distances[i], D[max_cord, i])\n",
    "    labels[0, i] = np.argmin(distances)"
   ]
  },
  {
   "cell_type": "code",
   "execution_count": 77,
   "metadata": {
    "ExecuteTime": {
     "end_time": "2018-01-02T15:39:46.639280Z",
     "start_time": "2018-01-02T15:39:46.627271Z"
    }
   },
   "outputs": [
    {
     "data": {
      "text/plain": [
       "array([[0, 0, 0, 0, 0, 0, 0, 0, 0, 0, 0, 0, 0, 0, 0, 0, 0, 0, 0, 0, 0, 0,\n",
       "        0, 0, 0, 0, 0, 0, 0, 0, 0, 0, 0, 0, 0, 0, 0, 0, 0, 0, 0, 0, 0, 0,\n",
       "        0, 0, 0, 0, 0, 0, 0, 0, 0, 0, 0, 0, 0, 0, 0, 0, 0, 0, 0, 0, 0, 0,\n",
       "        0, 0, 0, 0, 0, 0, 0, 0, 0, 0, 0, 0, 0, 0, 0, 0, 0, 0, 0, 0, 0, 0,\n",
       "        0, 0, 0, 0, 0, 0, 0, 0, 0, 0, 0, 0, 0, 0, 0, 0, 0, 0, 0, 0, 0, 0,\n",
       "        0, 0, 0, 0, 0, 0, 0, 0, 0, 0, 0, 0, 0, 0, 0, 0, 0, 0, 0, 0, 0, 0,\n",
       "        0, 0, 0, 0, 0, 0, 0, 0, 0, 0, 0, 0, 0, 0, 0, 0, 0, 0, 0, 0, 0, 0,\n",
       "        0, 0, 0, 0, 0, 0, 0, 0, 0, 0, 0, 0, 0, 0, 0, 0, 0, 0, 0, 0, 0, 0,\n",
       "        0, 0, 0, 0, 0, 0, 0, 0, 0, 0, 0, 0, 0, 0, 0, 0, 0, 0, 0, 0, 0, 0,\n",
       "        0, 0, 0, 0, 0, 0, 0, 0, 0, 0, 0, 0, 0, 0, 0, 0, 0, 0, 0, 0, 0, 0,\n",
       "        0, 0, 0, 0, 0, 0, 0, 0, 0, 0, 0, 0, 0, 0, 0, 0, 0, 0, 0, 0, 0, 0,\n",
       "        0, 0, 0, 0, 0, 0, 0, 0, 0, 0, 0, 0, 0, 0, 0, 0, 0, 0, 0, 0, 0, 0,\n",
       "        0, 0, 0, 0, 0, 0, 0, 0, 0, 0, 0, 0, 0, 0, 0, 0, 0, 0, 0, 0, 0, 0,\n",
       "        0, 0, 0, 0, 0, 0, 0, 0, 0, 0, 0, 0, 0, 0, 0, 0, 0, 0, 0, 0, 0, 0,\n",
       "        0, 0, 0, 0, 0, 0, 0, 0, 0, 0, 0, 0, 0, 0, 0, 0, 0, 0, 0, 0, 0, 0,\n",
       "        0, 0, 0, 0, 0, 0, 0, 0, 0, 0, 0, 0, 0, 0, 0, 0, 0, 0, 0, 0, 0, 0,\n",
       "        0, 0, 0, 0, 0, 0, 0, 0, 0, 0, 0, 0, 0, 0, 0, 0, 0, 0, 0, 0, 0, 0,\n",
       "        0, 0, 0, 0, 0, 0, 0, 0, 0, 0]])"
      ]
     },
     "execution_count": 77,
     "metadata": {},
     "output_type": "execute_result"
    }
   ],
   "source": [
    "labels"
   ]
  },
  {
   "cell_type": "code",
   "execution_count": null,
   "metadata": {
    "collapsed": true
   },
   "outputs": [],
   "source": []
  }
 ],
 "metadata": {
  "kernelspec": {
   "display_name": "Python 3",
   "language": "python",
   "name": "python3"
  },
  "language_info": {
   "codemirror_mode": {
    "name": "ipython",
    "version": 3
   },
   "file_extension": ".py",
   "mimetype": "text/x-python",
   "name": "python",
   "nbconvert_exporter": "python",
   "pygments_lexer": "ipython3",
   "version": "3.6.5"
  }
 },
 "nbformat": 4,
 "nbformat_minor": 2
}
